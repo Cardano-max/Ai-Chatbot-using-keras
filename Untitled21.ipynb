{
  "nbformat": 4,
  "nbformat_minor": 0,
  "metadata": {
    "colab": {
      "provenance": [],
      "authorship_tag": "ABX9TyP5gT2GZ6kOKucYY3IdDscr",
      "include_colab_link": true
    },
    "kernelspec": {
      "name": "python3",
      "display_name": "Python 3"
    },
    "language_info": {
      "name": "python"
    }
  },
  "cells": [
    {
      "cell_type": "markdown",
      "metadata": {
        "id": "view-in-github",
        "colab_type": "text"
      },
      "source": [
        "<a href=\"https://colab.research.google.com/github/Cardano-max/Ai-Chatbot-using-keras/blob/main/Untitled21.ipynb\" target=\"_parent\"><img src=\"https://colab.research.google.com/assets/colab-badge.svg\" alt=\"Open In Colab\"/></a>"
      ]
    },
    {
      "cell_type": "code",
      "execution_count": 11,
      "metadata": {
        "colab": {
          "base_uri": "https://localhost:8080/",
          "height": 441
        },
        "id": "lYjKHgaVxzal",
        "outputId": "b08a2b51-020c-46d5-fad1-d6468fa0bb4a"
      },
      "outputs": [
        {
          "output_type": "display_data",
          "data": {
            "text/plain": [
              "<Figure size 432x288 with 1 Axes>"
            ],
            "image/png": "[encoded data removed]"
          },
          "metadata": {}
        },
        {
          "output_type": "stream",
          "name": "stdout",
          "text": [
            "[[6, 4, 3, 2, 5, 1], [6, 4, 3, 2, 1], [6, 4, 5, 2, 1], [6, 4, 5, 1]]\n",
            "1 3 2 3 3 2\n",
            "[6, 4, 5, 1]\n",
            "[6, 4, 3, 2, 5, 1]\n",
            "[[6, 4, 3, 2, 5, 1], [6, 4, 3, 2, 1], [6, 4, 5, 2, 1], [6, 4, 5, 1]]\n",
            "[6, 4, 5, 1]\n",
            "[(6, 4), (4, 6), (4, 3), (4, 5), (3, 4), (3, 2), (5, 4), (5, 2), (5, 1), (2, 3), (2, 5), (2, 1), (1, 5), (1, 2)]\n"
          ]
        }
      ],
      "source": [
        "import networkx as nx\n",
        "import matplotlib.pyplot as plt\n",
        "\n",
        "G=nx.Graph()\n",
        "G.add_edge(6,4)\n",
        "G.add_edge(4,3)\n",
        "G.add_edge(4,5)\n",
        "G.add_edge(3,2)\n",
        "G.add_edge(5,2)\n",
        "G.add_edge(5,1)\n",
        "G.add_edge(2,1)\n",
        "\n",
        "nx.draw(G,with_labels=True,node_color='lightblue')\n",
        "plt.savefig(\"graph1.eps\")\n",
        "plt.show()\n",
        "\n",
        "def all_simple_paths(G, source, target, cutoff=None):\n",
        "    return list(nx.all_simple_paths(G, source, target, cutoff))\n",
        "\n",
        "print(all_simple_paths(G,6,1))\n",
        "\n",
        "print(nx.degree(G,6),nx.degree(G,4),nx.degree(G,3),nx.degree(G,5),nx.degree(G,2),nx.degree(G,1))\n",
        "\n",
        "print(nx.shortest_path(G,6,1))\n",
        "\n",
        "def find_path(graph, start, end, path=[]):\n",
        "        path = path + [start]\n",
        "        if start == end:\n",
        "            return path\n",
        "        for node in graph[start]:\n",
        "            if node not in path:\n",
        "                newpath = find_path(graph, node, end, path)\n",
        "                if newpath: return newpath\n",
        "        return None\n",
        "\n",
        "print(find_path(G,6,1))\n",
        "\n",
        "def find_all_paths(graph, start, end, path=[]):\n",
        "        path = path + [start]\n",
        "        if start == end:\n",
        "            return [path]\n",
        "        if start not in graph:\n",
        "            return []\n",
        "        paths = []\n",
        "        for node in graph[start]:\n",
        "            if node not in path:\n",
        "                newpaths = find_all_paths(graph, node, end, path)\n",
        "                for newpath in newpaths:\n",
        "                    paths.append(newpath)\n",
        "        return paths\n",
        "\n",
        "print(find_all_paths(G,6,1))\n",
        "\n",
        "def find_shortest_path(graph, start, end, path=[]):\n",
        "        path = path + [start]\n",
        "        if start == end:\n",
        "            return path\n",
        "        if start not in graph:\n",
        "            return None\n",
        "        shortest = None\n",
        "        for node in graph[start]:\n",
        "            if node not in path:\n",
        "                newpath = find_shortest_path(graph, node, end, path)\n",
        "                if newpath:\n",
        "                    if not shortest or len(newpath) < len(shortest):\n",
        "                        shortest = newpath\n",
        "        return shortest\n",
        "\n",
        "print(find_shortest_path(G,6,1))\n",
        "\n",
        "#adjaency list:\n",
        "\n",
        "def generate_edges(graph):\n",
        "    edges = []\n",
        "\n",
        "    for node in graph:\n",
        "        for neighbour in graph[node]:\n",
        "            edges.append((node, neighbour))\n",
        "\n",
        "    return edges\n",
        "\n",
        "print(generate_edges(G))"
      ]
    },
    {
      "cell_type": "code",
      "source": [
        "import networkx as nx\n",
        "\n",
        "G=nx.DiGraph()\n",
        "\n",
        "G.add_edge('A','B')\n",
        "G.add_edge('B','C')\n",
        "G.add_edge('B','D')\n",
        "G.add_edge('B','E')\n",
        "G.add_edge('C','E')\n",
        "G.add_edge('D','E')\n",
        "G.add_edge('G','D')\n",
        "G.add_edge('E','F')\n",
        "\n",
        "print(\"Graph 2:\")\n",
        "print(\"Nodes of graph: \")\n",
        "print(G.nodes())\n",
        "print(\"Edges of graph: \")\n",
        "print(G.edges())\n",
        "\n",
        "#a. Implement the above directed Graph 1 above in Python. Show the connectivity as well as the degree of each node within these graphs.\n",
        "\n",
        "print(\"Connectivity of graph: \")\n",
        "print(nx.is_strongly_connected(G))\n",
        "print(\"Degree of each node: \")\n",
        "for v in G:\n",
        "    print('%s %d' % (v,G.degree(v)))\n",
        "\n",
        "#b. Write a method to find any path between node A to node F in Graph 1.\n",
        "\n",
        "print(\"Path between node A and node F: \")\n",
        "print(nx.shortest_path(G,'A','F'))\n",
        "\n",
        "#c. Modify Task b to show all possible paths between node A to node F in Graph 1.\n",
        "\n",
        "print(\"All possible paths between node A and node F: \")\n",
        "for path in nx.all_simple_paths(G,'A','F'):\n",
        "    print(path)\n",
        "\n",
        "#d. Represent Graph 1 by adjacency list.\n",
        "\n",
        "print(\"Adjacency list: \")\n",
        "for node in G:\n",
        "    print(node, list(G.neighbors(node)))"
      ],
      "metadata": {
        "colab": {
          "base_uri": "https://localhost:8080/"
        },
        "id": "dYpyQiEHKhsu",
        "outputId": "2d7d1bfa-c020-4d4a-d2fa-17026622b734"
      },
      "execution_count": 77,
      "outputs": [
        {
          "output_type": "stream",
          "name": "stdout",
          "text": [
            "Graph 2:\n",
            "Nodes of graph: \n",
            "['A', 'B', 'C', 'D', 'E', 'G', 'F']\n",
            "Edges of graph: \n",
            "[('A', 'B'), ('B', 'C'), ('B', 'D'), ('B', 'E'), ('C', 'E'), ('D', 'E'), ('E', 'F'), ('G', 'D')]\n",
            "Connectivity of graph: \n",
            "False\n",
            "Degree of each node: \n",
            "A 1\n",
            "B 4\n",
            "C 2\n",
            "D 3\n",
            "E 4\n",
            "G 1\n",
            "F 1\n",
            "Path between node A and node F: \n",
            "['A', 'B', 'E', 'F']\n",
            "All possible paths between node A and node F: \n",
            "['A', 'B', 'C', 'E', 'F']\n",
            "['A', 'B', 'D', 'E', 'F']\n",
            "['A', 'B', 'E', 'F']\n",
            "Adjacency list: \n",
            "A ['B']\n",
            "B ['C', 'D', 'E']\n",
            "C ['E']\n",
            "D ['E']\n",
            "E ['F']\n",
            "G ['D']\n",
            "F []\n"
          ]
        }
      ]
    },
    {
      "cell_type": "code",
      "source": [
        "import networkx as nx\n",
        "import matplotlib.pyplot as plt\n",
        "\n",
        "G=nx.Graph()\n",
        "\n",
        "G.add_edge(150,2)\n",
        "G.add_edge(150,5)\n",
        "G.add_edge(2,5)\n",
        "G.add_edge(2,145)\n",
        "G.add_edge(145,5)\n",
        "G.add_edge(145,45)\n",
        "G.add_edge(45,5)\n",
        "G.add_edge(45,165)\n",
        "G.add_edge(165,5)\n",
        "G.add_edge(80,150)\n",
        "G.add_edge(80,145)\n",
        "G.add_edge(74,80)\n",
        "G.add_edge(74,102)\n",
        "G.add_edge(102,165)\n",
        "G.add_edge(102,145)\n",
        "G.add_edge(102,165)\n",
        "\n",
        "\n",
        "plt.subplot(121)\n",
        "nx.draw(G,with_labels=True,font_weight='bold')\n",
        "plt.show()"
      ],
      "metadata": {
        "colab": {
          "base_uri": "https://localhost:8080/",
          "height": 248
        },
        "id": "b3WZfrmN6QXj",
        "outputId": "26ca0419-9021-40df-cd8c-6cceb852895a"
      },
      "execution_count": 19,
      "outputs": [
        {
          "output_type": "display_data",
          "data": {
            "text/plain": [
              "<Figure size 432x288 with 1 Axes>"
            ],
            "image/png": "[encoded data removed]"
          },
          "metadata": {}
        }
      ]
    },
    {
      "cell_type": "code",
      "source": [
        "import numpy as np\n",
        "import networkx as nx\n",
        "\n",
        "def segment_image(image):\n",
        "    # convert image to graph\n",
        "    G = nx.Graph()\n",
        "    for i in range(image.shape[0]):\n",
        "        for j in range(image.shape[1]):\n",
        "            G.add_node((i, j), label=image[i, j])\n",
        "    for i in range(image.shape[0]):\n",
        "        for j in range(image.shape[1]):\n",
        "            if i > 0:\n",
        "                G.add_edge((i, j), (i-1, j), weight=abs(image[i, j] - image[i-1, j]))\n",
        "            if j > 0:\n",
        "                G.add_edge((i, j), (i, j-1), weight=abs(image[i, j] - image[i, j-1]))\n",
        "    # compute shortest path\n",
        "    path = nx.shortest_path(G, source=(0, 0), target=(2, 2), weight='weight')\n",
        "    # convert path to segmented image\n",
        "    segmented = np.zeros_like(image)\n",
        "    for i, j in path:\n",
        "        segmented[i, j] = image[i, j]\n",
        "    return segmented\n",
        "\n",
        "if __name__ == '__main__':\n",
        "    image = np.array([[150, 2, 5],\n",
        "                      [80, 145, 45],\n",
        "                      [74, 102, 165]])\n",
        "    segmented = segment_image(image)\n",
        "    print(segmented)\n",
        "#drawing segmeneted image\n",
        "import matplotlib.pyplot as plt\n",
        "plt.imshow(segmented, cmap='gray')\n",
        "plt.show()"
      ],
      "metadata": {
        "colab": {
          "base_uri": "https://localhost:8080/",
          "height": 321
        },
        "id": "b8iDzk9L9T7X",
        "outputId": "c0dc9fd7-ec14-4fda-86a7-d7de036317b5"
      },
      "execution_count": 48,
      "outputs": [
        {
          "output_type": "stream",
          "name": "stdout",
          "text": [
            "[[150   0   0]\n",
            " [ 80   0   0]\n",
            " [ 74 102 165]]\n"
          ]
        },
        {
          "output_type": "display_data",
          "data": {
            "text/plain": [
              "<Figure size 432x288 with 1 Axes>"
            ],
            "image/png": "[encoded data removed]"
          },
          "metadata": {
            "needs_background": "light"
          }
        }
      ]
    },
    {
      "cell_type": "markdown",
      "source": [
        "In the given 3x3 3-bit grayscale image, each pixel represents a node, and the edge cost between adjacent nodes is computed by taking the absolute difference.#For example, the edge cost between node 150 and node 80 is computed as |150-80|=70, and the edge cost between node 80 and node 74 is computed as |80-74|=6.\n",
        "To segment the object between node 150 to node 165, we need to find the shortest path between these two nodes in the graph.\n",
        "The shortest path is found to be [150, 80, 74, 102, 165], and the segmented image is shown in the output."
      ],
      "metadata": {
        "id": "uN4m0VD697fO"
      }
    },
    {
      "cell_type": "code",
      "source": [
        " \n",
        "import numpy as np\n",
        "import pandas as pd\n",
        "import matplotlib.pyplot as plt\n",
        "import networkx as nx\n",
        "\n",
        "def main():\n",
        "    # Read the image\n",
        "    image = [[150, 2, 5], [80, 145, 45], [74, 102, 165]]\n",
        "\n",
        "    # Decompose the image into an undirected graph\n",
        "    G = nx.Graph()\n",
        "    for i in range(len(image)):\n",
        "        for j in range(len(image[0])):\n",
        "            G.add_node(image[i][j])\n",
        "            if i > 0:\n",
        "                G.add_edge(image[i][j], image[i-1][j], weight=abs(image[i][j]-image[i-1][j]))\n",
        "            if j > 0:\n",
        "                G.add_edge(image[i][j], image[i][j-1], weight=abs(image[i][j]-image[i][j-1]))\n",
        "\n",
        "#Use nested dictionaries to represent graph with edge costs.\n",
        "    costs = {}\n",
        "    for i in range(len(image)):\n",
        "        for j in range(len(image[0])):\n",
        "            if i > 0:\n",
        "                costs[(image[i][j], image[i-1][j])] = abs(image[i][j]-image[i-1][j])\n",
        "            if j > 0:\n",
        "                costs[(image[i][j], image[i][j-1])] = abs(image[i][j]-image[i][j-1])\n",
        "\n",
        "# Now segment the object between node 150 to node 165 by computing the shortest path\n",
        "    path = nx.shortest_path(G, source=150, target=165, weight='weight')\n",
        "    print(path)\n",
        "\n",
        "\n",
        "#Plot the graph by labelling the cost of the path\n",
        "    pos = nx.spring_layout(G)\n",
        "    nx.draw_networkx_nodes(G, pos)\n",
        "    nx.draw_networkx_labels(G, pos)\n",
        "    nx.draw_networkx_edges(G, pos)\n",
        "    nx.draw_networkx_edge_labels(G, pos, edge_labels=costs)\n",
        "    plt.show()\n",
        "\n",
        "if __name__ == \"__main__\":\n",
        "    main()"
      ],
      "metadata": {
        "colab": {
          "base_uri": "https://localhost:8080/",
          "height": 265
        },
        "id": "ncAd0biLGS_H",
        "outputId": "a75c5ec9-e405-4f03-f127-4386891007a1"
      },
      "execution_count": 75,
      "outputs": [
        {
          "output_type": "stream",
          "name": "stdout",
          "text": [
            "[150, 80, 74, 102, 165]\n"
          ]
        },
        {
          "output_type": "display_data",
          "data": {
            "text/plain": [
              "<Figure size 432x288 with 1 Axes>"
            ],
            "image/png": "[encoded data removed]"
          },
          "metadata": {}
        }
      ]
    },
    {
      "cell_type": "code",
      "source": [
        "import math\n",
        "import numpy as np\n",
        "import pandas as pd\n",
        "import matplotlib.pyplot as plt\n",
        "import networkx as nx\n",
        "\n",
        "def dijkstra(graph,source,target):\n",
        "    shortest_paths={source:{'cost':0,'path':[]}}\n",
        "    current_node=source\n",
        "    visited=set()\n",
        "    \n",
        "    while current_node!=target:\n",
        "        for neighbour in graph[current_node]['neighbours']:\n",
        "            if neighbour not in shortest_paths:\n",
        "                new_cost=shortest_paths[current_node]['cost']+graph[current_node]['neighbours'][neighbour]\n",
        "                shortest_paths[neighbour]={'cost':new_cost,'path':shortest_paths[current_node]['path']+[current_node]}\n",
        "        visited.add(current_node)\n",
        "        del shortest_paths[current_node]\n",
        "        if not shortest_paths:\n",
        "            return \"Target is not reachable from Source\"\n",
        "        current_cost=math.inf\n",
        "        for node in shortest_paths:\n",
        "            if node not in visited and shortest_paths[node]['cost']<current_cost:\n",
        "                current_cost=shortest_paths[node]['cost']\n",
        "                current_node=node\n",
        "    \n",
        "    return shortest_paths[target]['path']+[target]\n",
        "\n",
        "if __name__==\"__main__\":\n",
        "    graph={\n",
        "        'V1':{'neighbours':{'V2':5,'V4':6}},\n",
        "        'V2':{'neighbours':{'V1':5,'V3':9,'V5':7}},\n",
        "        'V3':{'neighbours':{'V2':9,'V5':9}},\n",
        "        'V4':{'neighbours':{'V1':6,'V5':5}},\n",
        "        'V5':{'neighbours':{'V2':7,'V3':9,'V4':5}}\n",
        "        }\n",
        "    \n",
        "    print(dijkstra(graph,'V1','V3'))\n",
        "    \n",
        "    G=nx.Graph()\n",
        "    for node in graph:\n",
        "        G.add_node(node)\n",
        "        for neighbour in graph[node]['neighbours']:\n",
        "            G.add_edge(node,neighbour,weight=graph[node]['neighbours'][neighbour])\n",
        "    \n",
        "    pos=nx.spring_layout(G)\n",
        "    labels={node:node for node in G.nodes()}\n",
        "    edge_labels=dict([((u,v,),d['weight']) for u,v,d in G.edges(data=True)])\n",
        "    nx.draw_networkx_nodes(G,pos,node_color='red')\n",
        "    nx.draw_networkx_edges(G,pos,edge_color='black')\n",
        "    nx.draw_networkx_labels(G,pos,labels,font_size=16)\n",
        "    nx.draw_networkx_edge_labels(G,pos,edge_labels,font_size=16)\n",
        "    plt.axis('off')\n",
        "    plt.show()"
      ],
      "metadata": {
        "colab": {
          "base_uri": "https://localhost:8080/",
          "height": 265
        },
        "id": "Gfc5xqh1OCpp",
        "outputId": "7109dcb9-4cba-4892-bb5b-995e4ec1c3d2"
      },
      "execution_count": 76,
      "outputs": [
        {
          "output_type": "stream",
          "name": "stdout",
          "text": [
            "['V1', 'V2', 'V3']\n"
          ]
        },
        {
          "output_type": "display_data",
          "data": {
            "text/plain": [
              "<Figure size 432x288 with 1 Axes>"
            ],
            "image/png": "[encoded data removed]"
          },
          "metadata": {}
        }
      ]
    }
  ]
}